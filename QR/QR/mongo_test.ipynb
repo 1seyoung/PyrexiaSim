{
 "cells": [
  {
   "cell_type": "markdown",
   "metadata": {},
   "source": [
    "# Mongo DB Connection\n",
    " - 필요 : mongo db, compass\n",
    " - brew tap mongodb/brew\n",
    " - brew install mongodb-community\n",
    " - brew update\n",
    " - (conda or pip) install pymongo\n",
    "\n",
    "#### mongo db 실행 및 정지\n",
    " - brew services start mongodb-community\n",
    " - brew services stop mongodb-community\n",
    " default host url : http://localhost:27017\n",
    "\n",
    " compass 에서 27017에 연결, database 생성\n",
    "\n"
   ]
  },
  {
   "cell_type": "code",
   "execution_count": 114,
   "metadata": {},
   "outputs": [],
   "source": [
    "from pymongo import MongoClient\n",
    "import time\n",
    "\n",
    "class sim_mongo():\n",
    "    def __init__(self) -> None:\n",
    "        pass\n",
    "    \n",
    "    def data_insert(id, startig_time): # 데이터 추가\n",
    "        client = MongoClient(\"mongodb://localhost:27017/\")\n",
    "        \n",
    "        db = client['sim_database'] # 데이터베이스에 접속\n",
    "        \n",
    "        data = {\n",
    "            '_id' : str(id),\n",
    "            'starting_time' : startig_time\n",
    "        }\n",
    "        try:\n",
    "            db.personal_code.insert_one(data)\n",
    "            print('data inserted!! : {} '.format(data))\n",
    "        except:\n",
    "            print('id {} is already exist!!'.format(id))\n",
    "            \n",
    "    def data_change(change_array): # 수정할 id, time이 담긴 2차원 어레이\n",
    "        client = MongoClient(\"mongodb://localhost:27017/\")\n",
    "        \n",
    "        db = client['sim_database'] # 데이터베이스에 접속\n",
    "        \n",
    "        for i in range(len(change_array)):\n",
    "            id = change_array[i][0]\n",
    "            change_time = change_array[i][1]\n",
    "            try:\n",
    "                db.personal_code.update_one({'_id' : id}, {\"$set\":{\"starting_time\" : change_time}})\n",
    "                print('id : {} data changed to {}'.format(id, change_time))\n",
    "            except:\n",
    "                print('error')\n",
    "                \n",
    "    def data_search(id_array): # id\n",
    "        client = MongoClient(\"mongodb://localhost:27017/\")\n",
    "        \n",
    "        db = client['sim_database'] # 데이터베이스에 접속\n",
    "        #print(id_array, len(id_array))\n",
    "        for i in range(len(id_array)):\n",
    "            id = id_array[i]\n",
    "            #private_id = db.personal_code.find_one({'_id' : id})['_id']\n",
    "            starting_time = db.personal_code.find_one({'personal_id' : id})['starting_time']\n",
    "            working_time = time.time() - starting_time\n",
    "            #print(id, working_time)\n",
    "            print('_id = {}\\nworker : {}\\nworking time : {}'.format(private_id,id, working_time))"
   ]
  },
  {
   "cell_type": "code",
   "execution_count": 111,
   "metadata": {},
   "outputs": [
    {
     "name": "stdout",
     "output_type": "stream",
     "text": [
      "id 20171633 is already exist!!\n",
      "id 20171634 is already exist!!\n",
      "id 20171635 is already exist!!\n",
      "id 20171636 is already exist!!\n"
     ]
    }
   ],
   "source": [
    "sim_mongo.data_insert('20171633', time.time())\n",
    "sim_mongo.data_insert('20171634', time.time())\n",
    "\n",
    "sim_mongo.data_insert(20171635, time.time())\n",
    "sim_mongo.data_insert(20171636, time.time())"
   ]
  },
  {
   "cell_type": "code",
   "execution_count": 115,
   "metadata": {},
   "outputs": [],
   "source": [
    "changing_data = [['20171632', time.time()]]"
   ]
  },
  {
   "cell_type": "code",
   "execution_count": 116,
   "metadata": {},
   "outputs": [
    {
     "name": "stdout",
     "output_type": "stream",
     "text": [
      "id : 20171632 data changed to 1663488591.3064299\n"
     ]
    }
   ],
   "source": [
    "sim_mongo.data_change(changing_data)"
   ]
  },
  {
   "cell_type": "code",
   "execution_count": 103,
   "metadata": {},
   "outputs": [],
   "source": [
    "id_set = ['20171631', '20171632']"
   ]
  },
  {
   "cell_type": "code",
   "execution_count": 104,
   "metadata": {},
   "outputs": [
    {
     "name": "stdout",
     "output_type": "stream",
     "text": [
      "_id = 6326cd45727c8550a49edd23\n",
      "worker : 20171631\n",
      "working time : 260.38087010383606\n",
      "_id = 6326cd45727c8550a49edd25\n",
      "worker : 20171632\n",
      "working time : 260.37212085723877\n"
     ]
    }
   ],
   "source": [
    "sim_mongo.data_search(id_set)"
   ]
  }
 ],
 "metadata": {
  "kernelspec": {
   "display_name": "Python 3.8.13 ('python')",
   "language": "python",
   "name": "python3"
  },
  "language_info": {
   "codemirror_mode": {
    "name": "ipython",
    "version": 3
   },
   "file_extension": ".py",
   "mimetype": "text/x-python",
   "name": "python",
   "nbconvert_exporter": "python",
   "pygments_lexer": "ipython3",
   "version": "3.8.13"
  },
  "orig_nbformat": 4,
  "vscode": {
   "interpreter": {
    "hash": "9597c5a3b4c72d1d3d7aaf583ba91ab324472e797de20f453cdf5baf4283e79b"
   }
  }
 },
 "nbformat": 4,
 "nbformat_minor": 2
}
