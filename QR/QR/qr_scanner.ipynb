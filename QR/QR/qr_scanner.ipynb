{
 "cells": [
  {
   "cell_type": "markdown",
   "metadata": {},
   "source": [
    "# QR creator & scanner\n",
    " - QR Code 생성 및 스케너\n",
    "\n",
    "### Mac환경 사용법\n",
    " - conda 환경 구축\n",
    " - brew install bar\n",
    " - arch -arm64 berw install zbar\n",
    " - conda install pyzbar\n",
    " - pip install qrcode\n",
    "\n",
    "##### import error시\n",
    " - 출처 https://jeongjaeyoung0.github.io/python/2021/09/09/PS-zbar/\n",
    " ![](./import_error.png)\n",
    "\n"
   ]
  },
  {
   "cell_type": "code",
   "execution_count": 10,
   "metadata": {},
   "outputs": [],
   "source": [
    "import pyzbar.pyzbar as pyzbar\n",
    "import qrcode\n",
    "import cv2"
   ]
  },
  {
   "cell_type": "code",
   "execution_count": 13,
   "metadata": {},
   "outputs": [],
   "source": [
    "class sim_qrcode():\n",
    "    def __init__(self) -> None:\n",
    "        pass\n",
    "    \n",
    "    def create_qrcode(data): # personal_id == string\n",
    "        qr_img1 = qrcode.make(data)\n",
    "        img_save_path = 'qr_data/' + data + '.png'\n",
    "        qr_img1.save(img_save_path)\n",
    "        \n",
    "    def scan_qrcode():\n",
    "        cap = cv2.VideoCapture(0)\n",
    "        \n",
    "        qr_data = []\n",
    "\n",
    "        i = 0\n",
    "        while(cap.isOpened()):\n",
    "            ret, img = cap.read()\n",
    "\n",
    "            cv2.rectangle((0.0),(0, 500), (500,0), (500,500))\n",
    "\n",
    "            if not ret:\n",
    "                continue\n",
    "\n",
    "            gray = cv2.cvtColor(img, cv2.COLOR_BGR2GRAY)\n",
    "                \n",
    "            decoded = pyzbar.decode(gray)\n",
    "\n",
    "            for d in decoded: \n",
    "                x, y, w, h = d.rect\n",
    "\n",
    "                barcode_data = d.data.decode(\"utf-8\")\n",
    "                barcode_type = d.type\n",
    "\n",
    "                cv2.rectangle(img, (x, y), (x + w, y + h), (0, 0, 255), 2)\n",
    "                text = '%s (%s)' % (barcode_data, barcode_type)\n",
    "                cv2.putText(img, text, (x, y), cv2.FONT_HERSHEY_SIMPLEX, 1, (0, 255, 255), 2, cv2.LINE_AA)\n",
    "                \n",
    "                print(barcode_data)\n",
    "                if barcode_data not in qr_data:\n",
    "                    qr_data.append(barcode_data)\n",
    "                    print('data {} appended'.format(barcode_data))\n",
    "\n",
    "            cv2.imshow('img', img)\n",
    "\n",
    "            key = cv2.waitKey(1)\n",
    "            if key == ord('q'):\n",
    "                break\n",
    "\n",
    "        cap.release()\n",
    "        cv2.destroyAllWindows()\n",
    "        return qr_data"
   ]
  },
  {
   "cell_type": "code",
   "execution_count": 16,
   "metadata": {},
   "outputs": [
    {
     "name": "stdout",
     "output_type": "stream",
     "text": [
      "1\n",
      "data 1 appended\n",
      "1\n",
      "1\n",
      "1\n",
      "1\n",
      "1\n",
      "1\n",
      "1\n",
      "1\n",
      "1\n",
      "1\n",
      "1\n",
      "1\n",
      "1\n",
      "1\n",
      "1\n",
      "1\n",
      "1\n",
      "1\n",
      "1\n",
      "1\n",
      "1\n",
      "1\n",
      "1\n",
      "1\n",
      "1\n",
      "1\n",
      "1\n",
      "1\n",
      "1\n",
      "1\n",
      "1\n",
      "1\n",
      "1\n"
     ]
    },
    {
     "ename": "",
     "evalue": "",
     "output_type": "error",
     "traceback": [
      "\u001b[1;31m현재 셀 또는 이전 셀에서 코드를 실행하는 동안 Kernel이 충돌했습니다. 셀의 코드를 검토하여 오류의 가능한 원인을 식별하세요. 자세한 내용을 보려면 <a href='https://aka.ms/vscodeJupyterKernelCrash'> 여기 </a> 를 클릭하세요. 자세한 내용은 Jupyter <a href='command:jupyter.viewOutput'>로그</a>를 참조하세요."
     ]
    }
   ],
   "source": [
    "sim_qrcode.scan_qrcode()"
   ]
  },
  {
   "cell_type": "code",
   "execution_count": null,
   "metadata": {},
   "outputs": [],
   "source": []
  }
 ],
 "metadata": {
  "kernelspec": {
   "display_name": "Python 3.8.13 ('python')",
   "language": "python",
   "name": "python3"
  },
  "language_info": {
   "codemirror_mode": {
    "name": "ipython",
    "version": 3
   },
   "file_extension": ".py",
   "mimetype": "text/x-python",
   "name": "python",
   "nbconvert_exporter": "python",
   "pygments_lexer": "ipython3",
   "version": "3.8.13"
  },
  "orig_nbformat": 4,
  "vscode": {
   "interpreter": {
    "hash": "9597c5a3b4c72d1d3d7aaf583ba91ab324472e797de20f453cdf5baf4283e79b"
   }
  }
 },
 "nbformat": 4,
 "nbformat_minor": 2
}
