{
 "cells": [
  {
   "cell_type": "markdown",
   "metadata": {},
   "source": [
    "# QR Creator\n",
    " - pip install qrcode"
   ]
  },
  {
   "cell_type": "code",
   "execution_count": 7,
   "metadata": {},
   "outputs": [],
   "source": [
    "import qrcode\n",
    "import cv2\n",
    "\n",
    "def create_qrcode(personal_id): # personal_id == string\n",
    "    qr_img1 = qrcode.make(personal_id)\n",
    "    img_save_path = 'qr_data/' + personal_id + '.png'\n",
    "    qr_img1.save(img_save_path)"
   ]
  }
 ],
 "metadata": {
  "kernelspec": {
   "display_name": "Python 3.8.13 ('python')",
   "language": "python",
   "name": "python3"
  },
  "language_info": {
   "codemirror_mode": {
    "name": "ipython",
    "version": 3
   },
   "file_extension": ".py",
   "mimetype": "text/x-python",
   "name": "python",
   "nbconvert_exporter": "python",
   "pygments_lexer": "ipython3",
   "version": "3.8.13"
  },
  "orig_nbformat": 4,
  "vscode": {
   "interpreter": {
    "hash": "9597c5a3b4c72d1d3d7aaf583ba91ab324472e797de20f453cdf5baf4283e79b"
   }
  }
 },
 "nbformat": 4,
 "nbformat_minor": 2
}
